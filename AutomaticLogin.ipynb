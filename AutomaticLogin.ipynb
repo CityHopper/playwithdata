{
 "cells": [
  {
   "cell_type": "code",
   "execution_count": null,
   "metadata": {},
   "outputs": [],
   "source": [
    "https://stackoverflow.com/questions/53441658/selenium-in-python-nosuchelementexception-message-no-such-element-unable-to"
   ]
  },
  {
   "cell_type": "code",
   "execution_count": null,
   "metadata": {},
   "outputs": [],
   "source": [
    "from selenium import webdriver\n",
    "from selenium.webdriver.support.ui import WebDriverWait\n",
    "from selenium.webdriver.support import expected_conditions as EC\n",
    "from selenium.webdriver.common.by import By\n",
    "\n",
    "driver = webdriver.Chrome('C:/Users/CPBGame001/Downloads/chromedriver_win32/chromedriver.exe')\n",
    "driver.get(\"https://www.naver.com/\")\n",
    "WebDriverWait(driver, 10).until(EC.frame_to_be_available_and_switch_to_it((By.NAME,\"firstF\")))\n",
    "WebDriverWait(driver, 20).until(EC.element_to_be_clickable((By.CSS_SELECTOR, \"input.input_login[name='id']\"))).send_keys('abc')\n",
    "driver.find_element_by_css_selector(\"input.input_login[name='pw']\").send_keys(\"cdef\")"
   ]
  },
  {
   "cell_type": "code",
   "execution_count": 2,
   "metadata": {},
   "outputs": [
    {
     "ename": "SyntaxError",
     "evalue": "invalid syntax (<ipython-input-2-b353b0bb6a31>, line 9)",
     "output_type": "error",
     "traceback": [
      "\u001b[1;36m  File \u001b[1;32m\"<ipython-input-2-b353b0bb6a31>\"\u001b[1;36m, line \u001b[1;32m9\u001b[0m\n\u001b[1;33m    userNameElement.send_keys('peacestrokes')\u001b[0m\n\u001b[1;37m                  ^\u001b[0m\n\u001b[1;31mSyntaxError\u001b[0m\u001b[1;31m:\u001b[0m invalid syntax\n"
     ]
    }
   ],
   "source": [
    "from selenium.webdriver.support import expected_conditions as EC\n",
    "from selenium.webdriver.support.ui import WebDriverWait\n",
    "\n",
    "\n",
    "driver = webdriver.Chrome('C:/Users/CPBGame001/Downloads/chromedriver_win32/chromedriver.exe')\n",
    "driver.get(\"https://www.naver.com/\")\n",
    "\n",
    "userNameElement= WebDriverWait(driver, 2).until(EC.presence_of_element_located((By.NAME, \"id\"))\n",
    "userNameElement.send_keys('peacestrokes')\n",
    "\n",
    "pwdElement= WebDriverWait(driver, 2).until(EC.presence_of_element_located((By.NAME, \"pwd\"))\n",
    "pwdElement.send_keys('vudqkf1^^')"
   ]
  }
 ],
 "metadata": {
  "kernelspec": {
   "display_name": "Python 3",
   "language": "python",
   "name": "python3"
  },
  "language_info": {
   "codemirror_mode": {
    "name": "ipython",
    "version": 3
   },
   "file_extension": ".py",
   "mimetype": "text/x-python",
   "name": "python",
   "nbconvert_exporter": "python",
   "pygments_lexer": "ipython3",
   "version": "3.7.6"
  }
 },
 "nbformat": 4,
 "nbformat_minor": 4
}

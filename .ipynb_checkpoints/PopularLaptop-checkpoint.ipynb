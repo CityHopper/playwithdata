{
 "cells": [
  {
   "cell_type": "code",
   "execution_count": 1,
   "metadata": {},
   "outputs": [],
   "source": [
    "from selenium import webdriver\n",
    "driver = webdriver.Chrome('./chromedriver.exe')\n",
    "url = 'http://search.danawa.com/dsearch.php?query=노트북&tab=main'\n",
    "driver.get(url)"
   ]
  },
  {
   "cell_type": "code",
   "execution_count": 7,
   "metadata": {},
   "outputs": [],
   "source": [
    "from bs4 import BeautifulSoup\n",
    "html = driver.page_source\n",
    "soup = BeautifulSoup(html, 'html.parser')"
   ]
  },
  {
   "cell_type": "code",
   "execution_count": 24,
   "metadata": {},
   "outputs": [
    {
     "data": {
      "text/plain": [
       "30"
      ]
     },
     "execution_count": 24,
     "metadata": {},
     "output_type": "execute_result"
    }
   ],
   "source": [
    "prod_items = soup.select('#productListArea div.main_prodlist.main_prodlist > ul.product_list > li.prod_item')\n",
    "len(prod_items)"
   ]
  },
  {
   "cell_type": "code",
   "execution_count": 26,
   "metadata": {},
   "outputs": [
    {
     "data": {
      "text/plain": [
       "<li class=\"prod_item \" id=\"productItem10102740\">\n",
       "<input id=\"productItem_categoryInfo_10102740\" type=\"hidden\" value=\"디지털 완제품_노트북\"/>\n",
       "<input id=\"min_price_10102740\" type=\"hidden\" value=\"2009000\"/>\n",
       "<div class=\"prod_main_info\">\n",
       "<div class=\"thumb_image\">\n",
       "<a class=\"thumb_link\" href=\"http://prod.danawa.com/info/?pcode=10102740&amp;keyword=노트북&amp;cate=112758\" id=\"thumbLink_10102740\" onmousedown=\"_trkEventLog('통합검색_상품블로그_유입');\" target=\"_blank\">\n",
       "<img alt=\"NT950XCJ-X716A\" class=\"click_log_product_standard_img_ image_lazy\" data-original=\"http://img.danawa.com/prod_img/500000/740/102/img/10102740_1.jpg?shrink=160:160&amp;_v=20200304145002\" src=\"//img.danawa.com/new/noData/img/noImg_130.gif\"/>\n",
       "</a>\n",
       "<a class=\"btn_view_zoom\" data-assemblygallerycategory=\"N\" href=\"#\" id=\"imageZoom_10102740\" onclick=\"return false;\">\n",
       "<span class=\"ico i_zoom_vw\"></span>이미지보기\n",
       "\t\t\t\t\t\t\t</a>\n",
       "<a class=\"btn_view_video\" href=\"#\" id=\"imageVideo_10102740\" onclick=\"return false;\">\n",
       "<span class=\"badge_vdo\">동영상</span>\n",
       "</a>\n",
       "</div>\n",
       "<div class=\"prod_info\">\n",
       "<p class=\"prod_name\">\n",
       "<a class=\"click_log_product_standard_title_\" href=\"http://prod.danawa.com/info/?pcode=10102740&amp;keyword=노트북&amp;cate=112758\" onmousedown=\"_trkEventLog('통합검색_상품블로그_유입'); doCTR('%EB%85%B8%ED%8A%B8%EB%B6%81','10102740',1);\" target=\"_blank\">삼성전자 갤럭시북 이온 NT950XCJ-X716A</a>\n",
       "</p>\n",
       "<dl class=\"prod_spec_set\">\n",
       "<dt class=\"screen_out\">상세 스펙</dt>\n",
       "<dd>\n",
       "<div class=\"spec_list\"><a class=\"view_dic\" href=\"#\" onclick=\"$.termDicViewLink(1476,'view',this,0,860,869); return false;\">39.6cm(15.6인치)</a> / <a class=\"view_dic\" href=\"#\" onclick=\"$.termDicViewLink(1706,'view',this,0,860,869); return false;\">인텔</a> / <a class=\"view_dic\" href=\"#\" onclick=\"$.termDicViewLink(210460,'view',this,0,860,869); return false;\">코어i7-10세대</a> / <a class=\"view_dic\" href=\"#\" onclick=\"$.termDicViewLink(210460,'view',this,0,860,869); return false;\">코멧레이크</a> / <a class=\"view_dic\" href=\"#\" onclick=\"$.termDicViewLink(210673,'view',this,0,860,869); return false;\">i7-10510U 1.8GHz(4.9GHz)</a> / <a class=\"view_dic\" href=\"#\" onclick=\"$.termDicViewLink(22143,'view',this,0,860,869); return false;\">쿼드코어</a> / <a class=\"view_dic\" href=\"#\" onclick=\"$.termDicViewLink(1708,'view',this,0,860,869); return false;\">1920x1080(FHD)</a> / <a class=\"view_dic\" href=\"#\" onclick=\"$.termDicViewLink(904,'view',this,0,860,869); return false;\">광시야각</a> / <a class=\"view_dic\" href=\"#\" onclick=\"$.termDicViewLink(26549,'view',this,0,860,869); return false;\">슬림형 베젤</a> / <a class=\"view_dic\" href=\"#\" onclick=\"$.termDicViewLink(23556,'view',this,0,860,869); return false;\">DDR4</a> / <a class=\"view_dic\" href=\"#\" onclick=\"$.termDicViewLink(288,'view',this,0,860,869); return false;\">16GB</a> / <a class=\"view_dic\" href=\"#\" onclick=\"$.termDicViewLink(25742,'view',this,0,860,869); return false;\">M.2(NVMe)</a> / <a class=\"view_dic\" href=\"#\" onclick=\"$.termDicViewLink(2,'view',this,0,860,869); return false;\">512GB</a> / UHD Graphics / <a class=\"view_dic\" href=\"#\" onclick=\"$.termDicViewLink(30448,'view',this,0,860,869); return false;\">지포스 MX250</a> / <a class=\"view_dic\" href=\"#\" onclick=\"$.termDicViewLink(4102,'view',this,0,860,869); return false;\">VRAM:2GB</a> / 802.11ax 무선랜 / <a class=\"view_dic\" href=\"#\" onclick=\"$.termDicViewLink(3515,'view',this,0,860,869); return false;\">블루투스 5.0</a> / <a class=\"view_dic\" href=\"#\" onclick=\"$.termDicViewLink(290,'view',this,0,860,869); return false;\">HDMI</a> / <a class=\"view_dic\" href=\"#\" onclick=\"$.termDicViewLink(212773,'view',this,0,860,869); return false;\">웹캠(HD)</a> / <a class=\"view_dic\" href=\"#\" onclick=\"$.termDicViewLink(2305,'view',this,0,860,869); return false;\">썬더볼트</a>: <a class=\"view_dic\" href=\"#\" onclick=\"$.termDicViewLink(2305,'view',this,0,860,869); return false;\">1개</a> / <a class=\"view_dic\" href=\"#\" onclick=\"$.termDicViewLink(25931,'view',this,0,860,869); return false;\">USB Type-C</a> / <a class=\"view_dic\" href=\"#\" onclick=\"$.termDicViewLink(2794,'view',this,0,860,869); return false;\">USB 3.0</a> / <a class=\"view_dic\" href=\"#\" onclick=\"$.termDicViewLink(29970,'view',this,0,860,869); return false;\">UFS</a> / MicroSD카드 / <a class=\"view_dic\" href=\"#\" onclick=\"$.termDicViewLink(332,'view',this,0,860,869); return false;\">숫자 키패드</a> / <a class=\"view_dic\" href=\"#\" onclick=\"$.termDicViewLink(335,'view',this,0,860,869); return false;\">키보드 라이트</a> / <a class=\"view_dic\" href=\"#\" onclick=\"$.termDicViewLink(330,'view',this,0,860,869); return false;\">지문 인식</a> / <a class=\"view_dic\" href=\"#\" onclick=\"$.termDicViewLink(29232,'view',this,0,860,869); return false;\">TPM</a> / <a class=\"view_dic\" href=\"#\" onclick=\"$.termDicViewLink(31513,'view',this,0,860,869); return false;\">USB-PD</a> / <a class=\"view_dic\" href=\"#\" onclick=\"$.termDicViewLink(1990,'view',this,0,860,869); return false;\">69.7Wh</a> / <a class=\"view_dic\" href=\"#\" onclick=\"$.termDicViewLink(25573,'view',this,0,860,869); return false;\">윈도우10</a> / <a class=\"view_dic\" href=\"#\" onclick=\"$.termDicViewLink(25877,'view',this,0,860,869); return false;\">두께</a>: <a class=\"view_dic\" href=\"#\" onclick=\"$.termDicViewLink(25877,'view',this,0,860,869); return false;\">14.9mm</a> / <a class=\"view_dic\" href=\"#\" onclick=\"$.termDicViewLink(1478,'view',this,0,860,869); return false;\">1.26kg</a> / 일반유통상품 / <a class=\"view_dic\" href=\"#\" onclick=\"$.termDicViewLink(28127,'view',this,0,860,869); return false;\">용도</a>: <a class=\"view_dic\" href=\"#\" onclick=\"$.termDicViewLink(25543,'view',this,0,860,869); return false;\">그래픽작업용</a>, <a class=\"view_dic\" href=\"#\" onclick=\"$.termDicViewLink(25544,'view',this,0,860,869); return false;\">사무/인강용</a>, <a class=\"view_dic\" href=\"#\" onclick=\"$.termDicViewLink(25542,'view',this,0,860,869); return false;\">휴대용</a> / 무선 배터리 공유 / 색상 : 실버\t\t\t\t\t\t\t\t</div>\n",
       "</dd>\n",
       "</dl>\n",
       "<div class=\"relation_goods_unit\" id=\"relation_goods_unit_10102740\"></div>\n",
       "<div class=\"prod_sub_info\">\n",
       "<div class=\"prod_sub_meta\">\n",
       "<dl class=\"meta_item mt_date\">\n",
       "<dt>등록월</dt>\n",
       "<dd>2019.12</dd>\n",
       "</dl>\n",
       "<dl class=\"meta_item mt_comment\">\n",
       "<dt><span class=\"dt_behind\">상품의견</span></dt>\n",
       "<dd>\n",
       "<div class=\"cnt_star\">\n",
       "<div class=\"point_type_list\">\n",
       "<div class=\"mask\" style=\"width:97%\">\n",
       "</div>\n",
       "</div>\n",
       "<div class=\"point_num\">\n",
       "<strong>97</strong>점\n",
       "\t\t\t\t\t\t\t\t\t\t\t\t\t\t</div>\n",
       "</div>\n",
       "<div class=\"cnt_opinion\">\n",
       "\t\t\t\t\t\t\t\t\t\t\t\t\t\t(<a class=\"click_log_prod_content_count\" href=\"http://prod.danawa.com/info/?pcode=10102740&amp;keyword=노트북&amp;cate=112758#bookmark_cm_opinion\" onmousedown=\"_trkEventLog('통합검색_상품블로그_유입');\" target=\"_blank\"><strong>475</strong></a>건)\n",
       "\t\t\t\t\t\t\t\t\t\t\t\t\t</div>\n",
       "</dd>\n",
       "</dl>\n",
       "<dl class=\"meta_item\">\n",
       "<dt class=\"screen_out\">관심상품</dt>\n",
       "<dd><a class=\"click_log_wishList\" href=\"#\" onclick=\"javascript:$.danawaAddProductToWishList(this,'10102740','search_bundle');return false;\" onmousedown=\"doCTR('%EB%85%B8%ED%8A%B8%EB%B6%81','10102740',4);\" title=\"관심상품에 담기\">관심상품</a></dd>\n",
       "<input id=\"wishListBundleVal_10102740\" type=\"hidden\" value=\"SSD 512GB^10102740**SSD 1TB^10470639**SSD 2TB^10527168**SSD 3TB^10527252**SSD 4TB^10527294**SSD 128GB + SSD 512GB^10526958**SSD 256GB + SSD 512GB^10527015**SSD 500GB + SSD 512GB^10527036**SSD 1TB + SSD 512GB^10527117**SSD 2TB + SSD 512GB^10527216//삼성전자 갤럭시북 이온 NT950XCJ-X716A//10102740\"/>\n",
       "</dl>\n",
       "</div>\n",
       "<dl class=\"prod_category_location\">\n",
       "<dt class=\"screen_out\">상품분류</dt>\n",
       "<dd>\n",
       "<a href=\"http://prod.danawa.com/list/?cate=112758\" onmousedown=\"869\" target=\"doCTR('%EB%85%B8%ED%8A%B8%EB%B6%81',10102740,3);\"><span>노트북/태블릿PC</span> &gt; <span>노트북</span></a> <div class=\"more_cate_layer\" style=\"display: none; z-index: 1;\">\n",
       "<ul class=\"list_category_location\">\n",
       "</ul>\n",
       "</div>\n",
       "</dd>\n",
       "</dl>\n",
       "</div>\n",
       "</div>\n",
       "<div class=\"prod_pricelist\" data-cate=\"860|869|10580|0\">\n",
       "<ul>\n",
       "<li class=\"rank_one\" id=\"productInfoDetail_10102740\" style=\"\">\n",
       "<p class=\"chk_sect\">\n",
       "\t\t\t\t\t\t\t\t\t\t72몰\n",
       "\t\t\t\t\t\t\t\t\t\t<label for=\"prodCompareCheck_10102740\">\n",
       "<input id=\"prodCompareCheck_10102740\" type=\"checkbox\"/><strong>상품비교</strong>\n",
       "</label>\n",
       "<input name=\"compareValue\" type=\"hidden\" value=\"10102740\"/>\n",
       "<input name=\"compareRepValue\" type=\"hidden\" value=\"10102740\"/>\n",
       "</p>\n",
       "<p class=\"price_sect\">\n",
       "<a class=\"click_log_product_standard_price_\" href=\"http://prod.danawa.com/info/?pcode=10102740&amp;keyword=노트북&amp;cate=112758\" onmousedown=\"doCTR('%EB%85%B8%ED%8A%B8%EB%B6%81',10102740,1);\" target=\"_blank\"><strong>2,009,000</strong>원</a>\n",
       "<span class=\"more_btn_wrap\">\n",
       "<button class=\"ico i_more\">가격정보 더보기</button>\n",
       "<span class=\"layer_price_more\" id=\"layer_price_more_10102740\"></span>\n",
       "<span class=\"sep_line\"></span>\n",
       "</span>\n",
       "</p>\n",
       "<p class=\"memory_sect\"><span class=\"rank\">1위</span>\t\t\t\t\t\t\t\t\t\t\t\t\t\t\t\t\t\t\t\tSSD 512GB\t\t\t\t\t\t\t\t\t\t\t\t\t\t\t\t\t\t\t\t<a href=\"http://prod.danawa.com/info/?pcode=10102740&amp;keyword=노트북&amp;cate=112758\" onmousedown=\"doCTR('%EB%85%B8%ED%8A%B8%EB%B6%81',10102740,1);\" target=\"_blank\">\n",
       "</a>\n",
       "</p>\n",
       "</li>\n",
       "<li id=\"productInfoDetail_10470639\" style=\"\">\n",
       "<p class=\"chk_sect\">\n",
       "\t\t\t\t\t\t\t\t\t\t54몰\n",
       "\t\t\t\t\t\t\t\t\t\t<label for=\"prodCompareCheck_10470639\">\n",
       "<input id=\"prodCompareCheck_10470639\" type=\"checkbox\"/><strong>상품비교</strong>\n",
       "</label>\n",
       "<input name=\"compareValue\" type=\"hidden\" value=\"10470639\"/>\n",
       "<input name=\"compareRepValue\" type=\"hidden\" value=\"10102740\"/>\n",
       "</p>\n",
       "<p class=\"price_sect\">\n",
       "<a class=\"click_log_product_standard_price_\" href=\"http://prod.danawa.com/info/?pcode=10470639&amp;keyword=노트북&amp;cate=112758\" onmousedown=\"doCTR('%EB%85%B8%ED%8A%B8%EB%B6%81',10470639,1);\" target=\"_blank\"><strong>2,139,000</strong>원</a>\n",
       "<span class=\"more_btn_wrap\">\n",
       "<button class=\"ico i_more\">가격정보 더보기</button>\n",
       "<span class=\"layer_price_more\" id=\"layer_price_more_10470639\"></span>\n",
       "<span class=\"sep_line\"></span>\n",
       "</span>\n",
       "</p>\n",
       "<p class=\"memory_sect\"><span class=\"rank\">2위</span>\t\t\t\t\t\t\t\t\t\t\t\t\t\t\t\t\t\t\t\tSSD 1TB\t\t\t\t\t\t\t\t\t\t\t\t\t\t\t\t\t\t\t\t<a href=\"http://prod.danawa.com/info/?pcode=10470639&amp;keyword=노트북&amp;cate=112758\" onmousedown=\"doCTR('%EB%85%B8%ED%8A%B8%EB%B6%81',10470639,1);\" target=\"_blank\">\n",
       "</a>\n",
       "</p>\n",
       "</li>\n",
       "<li id=\"productInfoDetail_10527168\" style=\"\">\n",
       "<p class=\"chk_sect\">\n",
       "\t\t\t\t\t\t\t\t\t\t48몰\n",
       "\t\t\t\t\t\t\t\t\t\t<label for=\"prodCompareCheck_10527168\">\n",
       "<input id=\"prodCompareCheck_10527168\" type=\"checkbox\"/><strong>상품비교</strong>\n",
       "</label>\n",
       "<input name=\"compareValue\" type=\"hidden\" value=\"10527168\"/>\n",
       "<input name=\"compareRepValue\" type=\"hidden\" value=\"10102740\"/>\n",
       "</p>\n",
       "<p class=\"price_sect\">\n",
       "<a class=\"click_log_product_standard_price_\" href=\"http://prod.danawa.com/info/?pcode=10527168&amp;keyword=노트북&amp;cate=112758\" onmousedown=\"doCTR('%EB%85%B8%ED%8A%B8%EB%B6%81',10527168,1);\" target=\"_blank\"><strong>2,424,000</strong>원</a>\n",
       "<span class=\"more_btn_wrap\">\n",
       "<button class=\"ico i_more\">가격정보 더보기</button>\n",
       "<span class=\"layer_price_more\" id=\"layer_price_more_10527168\"></span>\n",
       "<span class=\"sep_line\"></span>\n",
       "</span>\n",
       "</p>\n",
       "<p class=\"memory_sect\">\t\t\t\t\t\t\t\t\t\t\t\t\t\t\t\t\t\t\t\tSSD 2TB\t\t\t\t\t\t\t\t\t\t\t\t\t\t\t\t\t\t\t\t<a href=\"http://prod.danawa.com/info/?pcode=10527168&amp;keyword=노트북&amp;cate=112758\" onmousedown=\"doCTR('%EB%85%B8%ED%8A%B8%EB%B6%81',10527168,1);\" target=\"_blank\">\n",
       "</a>\n",
       "</p>\n",
       "</li>\n",
       "<li id=\"productInfoDetail_10527252\" style=\"\">\n",
       "<p class=\"chk_sect\">\n",
       "\t\t\t\t\t\t\t\t\t\t32몰\n",
       "\t\t\t\t\t\t\t\t\t\t<label for=\"prodCompareCheck_10527252\">\n",
       "<input id=\"prodCompareCheck_10527252\" type=\"checkbox\"/><strong>상품비교</strong>\n",
       "</label>\n",
       "<input name=\"compareValue\" type=\"hidden\" value=\"10527252\"/>\n",
       "<input name=\"compareRepValue\" type=\"hidden\" value=\"10102740\"/>\n",
       "</p>\n",
       "<p class=\"price_sect\">\n",
       "<a class=\"click_log_product_standard_price_\" href=\"http://prod.danawa.com/info/?pcode=10527252&amp;keyword=노트북&amp;cate=112758\" onmousedown=\"doCTR('%EB%85%B8%ED%8A%B8%EB%B6%81',10527252,1);\" target=\"_blank\"><strong>2,842,000</strong>원</a>\n",
       "<span class=\"more_btn_wrap\">\n",
       "<button class=\"ico i_more\">가격정보 더보기</button>\n",
       "<span class=\"layer_price_more\" id=\"layer_price_more_10527252\"></span>\n",
       "<span class=\"sep_line\"></span>\n",
       "</span>\n",
       "</p>\n",
       "<p class=\"memory_sect\">\t\t\t\t\t\t\t\t\t\t\t\t\t\t\t\t\t\t\t\tSSD 3TB\t\t\t\t\t\t\t\t\t\t\t\t\t\t\t\t\t\t\t\t<a href=\"http://prod.danawa.com/info/?pcode=10527252&amp;keyword=노트북&amp;cate=112758\" onmousedown=\"doCTR('%EB%85%B8%ED%8A%B8%EB%B6%81',10527252,1);\" target=\"_blank\">\n",
       "</a>\n",
       "</p>\n",
       "</li>\n",
       "<li id=\"productInfoDetail_10527294\" style=\"\">\n",
       "<p class=\"chk_sect\">\n",
       "\t\t\t\t\t\t\t\t\t\t32몰\n",
       "\t\t\t\t\t\t\t\t\t\t<label for=\"prodCompareCheck_10527294\">\n",
       "<input id=\"prodCompareCheck_10527294\" type=\"checkbox\"/><strong>상품비교</strong>\n",
       "</label>\n",
       "<input name=\"compareValue\" type=\"hidden\" value=\"10527294\"/>\n",
       "<input name=\"compareRepValue\" type=\"hidden\" value=\"10102740\"/>\n",
       "</p>\n",
       "<p class=\"price_sect\">\n",
       "<a class=\"click_log_product_standard_price_\" href=\"http://prod.danawa.com/info/?pcode=10527294&amp;keyword=노트북&amp;cate=112758\" onmousedown=\"doCTR('%EB%85%B8%ED%8A%B8%EB%B6%81',10527294,1);\" target=\"_blank\"><strong>3,082,000</strong>원</a>\n",
       "<span class=\"more_btn_wrap\">\n",
       "<button class=\"ico i_more\">가격정보 더보기</button>\n",
       "<span class=\"layer_price_more\" id=\"layer_price_more_10527294\"></span>\n",
       "<span class=\"sep_line\"></span>\n",
       "</span>\n",
       "</p>\n",
       "<p class=\"memory_sect\">\t\t\t\t\t\t\t\t\t\t\t\t\t\t\t\t\t\t\t\tSSD 4TB\t\t\t\t\t\t\t\t\t\t\t\t\t\t\t\t\t\t\t\t<a href=\"http://prod.danawa.com/info/?pcode=10527294&amp;keyword=노트북&amp;cate=112758\" onmousedown=\"doCTR('%EB%85%B8%ED%8A%B8%EB%B6%81',10527294,1);\" target=\"_blank\">\n",
       "</a>\n",
       "</p>\n",
       "</li>\n",
       "<li id=\"productInfoDetail_10526958\" style=\"display:none;\">\n",
       "<p class=\"chk_sect\">\n",
       "\t\t\t\t\t\t\t\t\t\t34몰\n",
       "\t\t\t\t\t\t\t\t\t\t<label for=\"prodCompareCheck_10526958\">\n",
       "<input id=\"prodCompareCheck_10526958\" type=\"checkbox\"/><strong>상품비교</strong>\n",
       "</label>\n",
       "<input name=\"compareValue\" type=\"hidden\" value=\"10526958\"/>\n",
       "<input name=\"compareRepValue\" type=\"hidden\" value=\"10102740\"/>\n",
       "</p>\n",
       "<p class=\"price_sect\">\n",
       "<a class=\"click_log_product_standard_price_\" href=\"http://prod.danawa.com/info/?pcode=10526958&amp;keyword=노트북&amp;cate=112758\" onmousedown=\"doCTR('%EB%85%B8%ED%8A%B8%EB%B6%81',10526958,1);\" target=\"_blank\"><strong>2,298,000</strong>원</a>\n",
       "<span class=\"more_btn_wrap\">\n",
       "<button class=\"ico i_more\">가격정보 더보기</button>\n",
       "<span class=\"layer_price_more\" id=\"layer_price_more_10526958\"></span>\n",
       "<span class=\"sep_line\"></span>\n",
       "</span>\n",
       "</p>\n",
       "<p class=\"memory_sect\">\t\t\t\t\t\t\t\t\t\t\t\t\t\t\t\t\t\t\t\tSSD 128GB + SSD 512GB\t\t\t\t\t\t\t\t\t\t\t\t\t\t\t\t\t\t\t\t<a href=\"http://prod.danawa.com/info/?pcode=10526958&amp;keyword=노트북&amp;cate=112758\" onmousedown=\"doCTR('%EB%85%B8%ED%8A%B8%EB%B6%81',10526958,1);\" target=\"_blank\">\n",
       "</a>\n",
       "</p>\n",
       "</li>\n",
       "<li id=\"productInfoDetail_10527015\" style=\"display:none;\">\n",
       "<p class=\"chk_sect\">\n",
       "\t\t\t\t\t\t\t\t\t\t42몰\n",
       "\t\t\t\t\t\t\t\t\t\t<label for=\"prodCompareCheck_10527015\">\n",
       "<input id=\"prodCompareCheck_10527015\" type=\"checkbox\"/><strong>상품비교</strong>\n",
       "</label>\n",
       "<input name=\"compareValue\" type=\"hidden\" value=\"10527015\"/>\n",
       "<input name=\"compareRepValue\" type=\"hidden\" value=\"10102740\"/>\n",
       "</p>\n",
       "<p class=\"price_sect\">\n",
       "<a class=\"click_log_product_standard_price_\" href=\"http://prod.danawa.com/info/?pcode=10527015&amp;keyword=노트북&amp;cate=112758\" onmousedown=\"doCTR('%EB%85%B8%ED%8A%B8%EB%B6%81',10527015,1);\" target=\"_blank\"><strong>2,185,000</strong>원</a>\n",
       "<span class=\"more_btn_wrap\">\n",
       "<button class=\"ico i_more\">가격정보 더보기</button>\n",
       "<span class=\"layer_price_more\" id=\"layer_price_more_10527015\"></span>\n",
       "<span class=\"sep_line\"></span>\n",
       "</span>\n",
       "</p>\n",
       "<p class=\"memory_sect\">\t\t\t\t\t\t\t\t\t\t\t\t\t\t\t\t\t\t\t\tSSD 256GB + SSD 512GB\t\t\t\t\t\t\t\t\t\t\t\t\t\t\t\t\t\t\t\t<a href=\"http://prod.danawa.com/info/?pcode=10527015&amp;keyword=노트북&amp;cate=112758\" onmousedown=\"doCTR('%EB%85%B8%ED%8A%B8%EB%B6%81',10527015,1);\" target=\"_blank\">\n",
       "</a>\n",
       "</p>\n",
       "</li>\n",
       "<li id=\"productInfoDetail_10527036\" style=\"display:none;\">\n",
       "<p class=\"chk_sect\">\n",
       "\t\t\t\t\t\t\t\t\t\t51몰\n",
       "\t\t\t\t\t\t\t\t\t\t<label for=\"prodCompareCheck_10527036\">\n",
       "<input id=\"prodCompareCheck_10527036\" type=\"checkbox\"/><strong>상품비교</strong>\n",
       "</label>\n",
       "<input name=\"compareValue\" type=\"hidden\" value=\"10527036\"/>\n",
       "<input name=\"compareRepValue\" type=\"hidden\" value=\"10102740\"/>\n",
       "</p>\n",
       "<p class=\"price_sect\">\n",
       "<a class=\"click_log_product_standard_price_\" href=\"http://prod.danawa.com/info/?pcode=10527036&amp;keyword=노트북&amp;cate=112758\" onmousedown=\"doCTR('%EB%85%B8%ED%8A%B8%EB%B6%81',10527036,1);\" target=\"_blank\"><strong>2,231,000</strong>원</a>\n",
       "<span class=\"more_btn_wrap\">\n",
       "<button class=\"ico i_more\">가격정보 더보기</button>\n",
       "<span class=\"layer_price_more\" id=\"layer_price_more_10527036\"></span>\n",
       "<span class=\"sep_line\"></span>\n",
       "</span>\n",
       "</p>\n",
       "<p class=\"memory_sect\">\t\t\t\t\t\t\t\t\t\t\t\t\t\t\t\t\t\t\t\tSSD 500GB + SSD 512GB\t\t\t\t\t\t\t\t\t\t\t\t\t\t\t\t\t\t\t\t<a href=\"http://prod.danawa.com/info/?pcode=10527036&amp;keyword=노트북&amp;cate=112758\" onmousedown=\"doCTR('%EB%85%B8%ED%8A%B8%EB%B6%81',10527036,1);\" target=\"_blank\">\n",
       "</a>\n",
       "</p>\n",
       "</li>\n",
       "<li id=\"productInfoDetail_10527117\" style=\"display:none;\">\n",
       "<p class=\"chk_sect\">\n",
       "\t\t\t\t\t\t\t\t\t\t47몰\n",
       "\t\t\t\t\t\t\t\t\t\t<label for=\"prodCompareCheck_10527117\">\n",
       "<input id=\"prodCompareCheck_10527117\" type=\"checkbox\"/><strong>상품비교</strong>\n",
       "</label>\n",
       "<input name=\"compareValue\" type=\"hidden\" value=\"10527117\"/>\n",
       "<input name=\"compareRepValue\" type=\"hidden\" value=\"10102740\"/>\n",
       "</p>\n",
       "<p class=\"price_sect\">\n",
       "<a class=\"click_log_product_standard_price_\" href=\"http://prod.danawa.com/info/?pcode=10527117&amp;keyword=노트북&amp;cate=112758\" onmousedown=\"doCTR('%EB%85%B8%ED%8A%B8%EB%B6%81',10527117,1);\" target=\"_blank\"><strong>2,623,000</strong>원</a>\n",
       "<span class=\"more_btn_wrap\">\n",
       "<button class=\"ico i_more\">가격정보 더보기</button>\n",
       "<span class=\"layer_price_more\" id=\"layer_price_more_10527117\"></span>\n",
       "<span class=\"sep_line\"></span>\n",
       "</span>\n",
       "</p>\n",
       "<p class=\"memory_sect\">\t\t\t\t\t\t\t\t\t\t\t\t\t\t\t\t\t\t\t\tSSD 1TB + SSD 512GB\t\t\t\t\t\t\t\t\t\t\t\t\t\t\t\t\t\t\t\t<a href=\"http://prod.danawa.com/info/?pcode=10527117&amp;keyword=노트북&amp;cate=112758\" onmousedown=\"doCTR('%EB%85%B8%ED%8A%B8%EB%B6%81',10527117,1);\" target=\"_blank\">\n",
       "</a>\n",
       "</p>\n",
       "</li>\n",
       "<li id=\"productInfoDetail_10527216\" style=\"display:none;\">\n",
       "<p class=\"chk_sect\">\n",
       "\t\t\t\t\t\t\t\t\t\t44몰\n",
       "\t\t\t\t\t\t\t\t\t\t<label for=\"prodCompareCheck_10527216\">\n",
       "<input id=\"prodCompareCheck_10527216\" type=\"checkbox\"/><strong>상품비교</strong>\n",
       "</label>\n",
       "<input name=\"compareValue\" type=\"hidden\" value=\"10527216\"/>\n",
       "<input name=\"compareRepValue\" type=\"hidden\" value=\"10102740\"/>\n",
       "</p>\n",
       "<p class=\"price_sect\">\n",
       "<a class=\"click_log_product_standard_price_\" href=\"http://prod.danawa.com/info/?pcode=10527216&amp;keyword=노트북&amp;cate=112758\" onmousedown=\"doCTR('%EB%85%B8%ED%8A%B8%EB%B6%81',10527216,1);\" target=\"_blank\"><strong>2,608,000</strong>원</a>\n",
       "<span class=\"more_btn_wrap\">\n",
       "<button class=\"ico i_more\">가격정보 더보기</button>\n",
       "<span class=\"layer_price_more\" id=\"layer_price_more_10527216\"></span>\n",
       "<span class=\"sep_line\"></span>\n",
       "</span>\n",
       "</p>\n",
       "<p class=\"memory_sect\">\t\t\t\t\t\t\t\t\t\t\t\t\t\t\t\t\t\t\t\tSSD 2TB + SSD 512GB\t\t\t\t\t\t\t\t\t\t\t\t\t\t\t\t\t\t\t\t<a href=\"http://prod.danawa.com/info/?pcode=10527216&amp;keyword=노트북&amp;cate=112758\" onmousedown=\"doCTR('%EB%85%B8%ED%8A%B8%EB%B6%81',10527216,1);\" target=\"_blank\">\n",
       "</a>\n",
       "</p>\n",
       "</li>\n",
       "</ul> <p class=\"more_prod_pricelist\">\n",
       "<a class=\"open\" href=\"#\">다른 구성 <span><strong>5</strong>개</span></a>\n",
       "<input name=\"bundleHiddenItem\" type=\"hidden\" value=\"10526958|10527015|10527036|10527117|10527216\"/>\n",
       "</p>\n",
       "</div>\n",
       "</div>\n",
       "</li>"
      ]
     },
     "execution_count": 26,
     "metadata": {},
     "output_type": "execute_result"
    }
   ],
   "source": [
    "prod_items[29]"
   ]
  },
  {
   "cell_type": "code",
   "execution_count": 27,
   "metadata": {},
   "outputs": [
    {
     "name": "stdout",
     "output_type": "stream",
     "text": [
      "레노버 LEGION Y540-15IRH i5 Edition PRO\n"
     ]
    }
   ],
   "source": [
    "title = prod_items[0].select('p.prod_name > a.click_log_product_standard_title_')[0].text.strip()\n",
    "print(title)"
   ]
  },
  {
   "cell_type": "code",
   "execution_count": 28,
   "metadata": {},
   "outputs": [
    {
     "name": "stdout",
     "output_type": "stream",
     "text": [
      "레노버 LEGION Y540-15IRH i5 Edition PRO\n"
     ]
    }
   ],
   "source": [
    "title = prod_items[0].select('p.prod_name > a')[0].text.strip()\n",
    "print(title)"
   ]
  },
  {
   "cell_type": "code",
   "execution_count": 29,
   "metadata": {},
   "outputs": [
    {
     "name": "stdout",
     "output_type": "stream",
     "text": [
      "39.6cm(15.6인치) / 인텔 / 코어i5-9세대 / 커피레이크-R / i5-9300HF 2.4GHz(4.1GHz) / 쿼드코어 / 1920x1080(FHD) / 300nit / 광시야각(IPS) / 슈퍼브라이트 / 슬림형 베젤 / DDR4 / 8GB / M.2(NVMe) / 256GB / GTX1660 Ti / VRAM:6GB / 1Gbps 유선랜 / 802.11n/ac 무선 / 블루투스 4.2 / HDMI 2.0 / mini DP / 웹캠 / USB Type-C / USB 3.0 / 숫자 키패드 / 키보드 라이트 / 57Wh / 운영체제 미포함 / 두께: 26mm / 2.3kg / 구성변경상품 / 용도: 게임용, 그래픽작업용 / 색상 : 블랙\n"
     ]
    }
   ],
   "source": [
    "spec_list = prod_items[0].select('div.spec_list')[0].text.strip()\n",
    "print(spec_list)"
   ]
  },
  {
   "cell_type": "code",
   "execution_count": 30,
   "metadata": {},
   "outputs": [
    {
     "name": "stdout",
     "output_type": "stream",
     "text": [
      "844000\n"
     ]
    }
   ],
   "source": [
    "price = prod_items[0].select('li.rank_one > p.price_sect > a > strong')[0].text.strip().replace(\",\",\"\")\n",
    "print(price)"
   ]
  },
  {
   "cell_type": "code",
   "execution_count": 31,
   "metadata": {},
   "outputs": [
    {
     "name": "stdout",
     "output_type": "stream",
     "text": [
      "[['레노버 LEGION Y540-15IRH i5 Edition PRO'], ['ASUS ROG Strix G G531GT-AL106'], ['LG전자 2020 그램15 15ZD90N-VX50K'], ['LG전자 2020 그램15 15ZD995-VX50K'], ['HP 15s-eq0080AU'], ['ASUS 비보북 X507MA-EJ422'], ['MSI 크리에이터 17M A9SD-i7'], ['LG전자 2019 울트라PC 15UD490-GX56K'], ['MSI GL시리즈 GL75 9SDK'], ['ASUS Laptop15 D509DA-BQ001'], ['HP 15s-eq0079AU'], ['LG전자 2020 그램17 17ZD90N-VX50K'], ['LG전자 2019 울트라PC 15UD490-GX36K'], ['ASUS 비보북 17 D712DA-AU071'], ['MSI GS시리즈 GS65 Stealth 9SD'], ['레노버 아이디어패드 L340-15IRH i5 LEGEND'], ['HP 15s-eq0081AU'], ['HP 파빌리온 게이밍 15-dk0165TX'], ['LG전자 2020 울트라PC 15UD70N-GX56K'], ['한성컴퓨터 언더케이지 TFX242XA'], ['삼성전자 갤럭시북 이온 NT950XCR-G58A'], ['삼성전자 갤럭시북 플렉스 NT930QCT-A38A'], ['ASUS ROG Strix G G731GT-H7147'], ['레노버 아이디어패드 S340-15API R5'], ['ASUS 비보북 X512FA-BQ1634'], ['LG전자 2019 울트라PC 15UD590-GX50K'], ['APPLE 2019 맥북프로16 MVVK2KH/A'], ['한성컴퓨터 올데이롱 TFX255S'], ['레노버 LEGION Y540-15IRH i7 Blade Edition'], ['삼성전자 갤럭시북 이온 NT950XCJ-X716A']]\n",
      "30\n"
     ]
    }
   ],
   "source": [
    "prod_data = []\n",
    "for prod_item in prod_items:\n",
    "    try:\n",
    "        title = prod_item.select('p.prod_name > a')[0].text.strip()\n",
    "    except:\n",
    "        title = \"\"\n",
    "    try:\n",
    "        spec_list = prod_item.select('div.spec_list')[0].text.strip()\n",
    "    except:\n",
    "        spec_list = \"\"\n",
    "    try:\n",
    "        price = prod_item.select('li.rank_one > p.price_sect > a > strong')[0].text.strip().replace(\",\",\"\")\n",
    "    except:\n",
    "        price = \"\"\n",
    "    prod_data.append([title])\n",
    "print(prod_data)\n",
    "print(len(prod_data))"
   ]
  },
  {
   "cell_type": "code",
   "execution_count": null,
   "metadata": {},
   "outputs": [],
   "source": [
    "def get_prod_items(prod_items):\n",
    "    for prod_item in prod_items:\n",
    "        try:\n",
    "            title = prod_item.select('p.prod_name > a')[0].text.strip()\n",
    "        except:\n",
    "            title = \"\"\n",
    "        try:\n",
    "            spec_list = prod_item.select('div.spec_list')[0].text.strip()\n",
    "        except:\n",
    "            spec_list = \"\"\n",
    "        try:\n",
    "            price = prod_item.select('li.rank_one > p.price_sect > a > strong')[0].text.strip().replace(\",\",\"\")\n",
    "        except:\n",
    "            price = \"\"\n",
    "        prod_data.append([title, spec_list, price])\n",
    "    return prod_data"
   ]
  },
  {
   "cell_type": "code",
   "execution_count": null,
   "metadata": {},
   "outputs": [],
   "source": []
  },
  {
   "cell_type": "code",
   "execution_count": null,
   "metadata": {},
   "outputs": [],
   "source": []
  },
  {
   "cell_type": "code",
   "execution_count": null,
   "metadata": {},
   "outputs": [],
   "source": []
  },
  {
   "cell_type": "code",
   "execution_count": null,
   "metadata": {},
   "outputs": [],
   "source": []
  },
  {
   "cell_type": "code",
   "execution_count": null,
   "metadata": {},
   "outputs": [],
   "source": []
  },
  {
   "cell_type": "code",
   "execution_count": null,
   "metadata": {},
   "outputs": [],
   "source": []
  },
  {
   "cell_type": "code",
   "execution_count": null,
   "metadata": {},
   "outputs": [],
   "source": []
  },
  {
   "cell_type": "code",
   "execution_count": null,
   "metadata": {},
   "outputs": [],
   "source": []
  },
  {
   "cell_type": "code",
   "execution_count": null,
   "metadata": {},
   "outputs": [],
   "source": []
  },
  {
   "cell_type": "code",
   "execution_count": null,
   "metadata": {},
   "outputs": [],
   "source": []
  },
  {
   "cell_type": "code",
   "execution_count": null,
   "metadata": {},
   "outputs": [],
   "source": []
  },
  {
   "cell_type": "code",
   "execution_count": null,
   "metadata": {},
   "outputs": [],
   "source": []
  },
  {
   "cell_type": "code",
   "execution_count": null,
   "metadata": {},
   "outputs": [],
   "source": []
  },
  {
   "cell_type": "code",
   "execution_count": null,
   "metadata": {},
   "outputs": [],
   "source": []
  },
  {
   "cell_type": "code",
   "execution_count": null,
   "metadata": {},
   "outputs": [],
   "source": []
  },
  {
   "cell_type": "code",
   "execution_count": null,
   "metadata": {},
   "outputs": [],
   "source": []
  },
  {
   "cell_type": "code",
   "execution_count": null,
   "metadata": {},
   "outputs": [],
   "source": []
  },
  {
   "cell_type": "code",
   "execution_count": null,
   "metadata": {},
   "outputs": [],
   "source": []
  },
  {
   "cell_type": "code",
   "execution_count": null,
   "metadata": {},
   "outputs": [],
   "source": []
  }
 ],
 "metadata": {
  "kernelspec": {
   "display_name": "Python 3",
   "language": "python",
   "name": "python3"
  },
  "language_info": {
   "codemirror_mode": {
    "name": "ipython",
    "version": 3
   },
   "file_extension": ".py",
   "mimetype": "text/x-python",
   "name": "python",
   "nbconvert_exporter": "python",
   "pygments_lexer": "ipython3",
   "version": "3.7.6"
  }
 },
 "nbformat": 4,
 "nbformat_minor": 4
}
